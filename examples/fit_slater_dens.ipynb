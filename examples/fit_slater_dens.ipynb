{
 "cells": [
  {
   "cell_type": "markdown",
   "metadata": {
    "collapsed": true
   },
   "source": [
    "Fitting Slater-Based Electron Density to Gaussian Basis Set\n",
    "--------------------------------------------------\n",
    "\n",
    "This example shows how to fit to a slater densities specified by the\n",
    "element name (here it is beryllium) rather than providing a slater density to a set of gaussian basis functions.\n",
    "The fit_densities handles the work of constructing a slater density for you."
   ]
  },
  {
   "cell_type": "markdown",
   "metadata": {},
   "source": [
    ""
   ]
  },
  {
   "cell_type": "markdown",
   "metadata": {},
   "source": [
    "### How to optimize"
   ]
  },
  {
   "cell_type": "markdown",
   "metadata": {},
   "source": [
    "We first start by defining our grid.\n",
    "The chosen grid is the Clenshaw-Curtis grid, defined by:\n",
    "\n",
    "This grid has an added benefit of concentrating points near the origin/nucleus. In additional, extra points are added to ensure a proper fit on the futher/valence regions."
   ]
  },
  {
   "cell_type": "code",
   "execution_count": null,
   "metadata": {},
   "outputs": [],
   "source": [
    "from fitting.radial_grid.clenshaw_curtis import ClenshawGrid\n",
    "\n",
    "element_name = \"be\"\n",
    "atomic_number = 4\n",
    "numb_pts = 200\n",
    "extra_pts = [25, 50, 75]\n",
    "g_obj = ClenshawGrid(atomic_number, numb_pts, numb_pts, extra_pts)"
   ]
  },
  {
   "cell_type": "markdown",
   "metadata": {},
   "source": [
    "Once the grid is defined, we need to define our input for the kullback-leibler function.\n",
    "These inputs are stored in the options dictionary which is then passed to the fit_gaussian_densities function. We pass along with it, the name of the element and the method of choice."
   ]
  },
  {
   "cell_type": "code",
   "execution_count": null,
   "metadata": {},
   "outputs": [],
   "source": [
    "import numpy as np\n",
    "from fit_densities import fit_gaussian_densities\n",
    "\n",
    "coeff = np.array([1., 2., 3., 4., 5.])\n",
    "exps = np.array([1., 2., 3., 4., 5.])\n",
    "options = {\"eps_coeff\": 1e-5, \"eps_fparam\": 1e-6, \"coeffs\": coeff,\n",
    "           \"fparams\": exps, 'iprint': True}\n",
    "opt_params = fit_gaussian_densities(grid=g_obj, element_name=\"be\", inte_val=atomic_number,\n",
    "                                    method=\"kl_divergence\", options=options)"
   ]
  },
  {
   "cell_type": "markdown",
   "metadata": {},
   "source": [
    "Once completed, we have a set of coefficients and exponents that should provide the best fit possible to the density."
   ]
  },
  {
   "cell_type": "code",
   "execution_count": null,
   "metadata": {},
   "outputs": [],
   "source": [
    "print(\"Updated Parameters:\")\n",
    "coeffs = opt_params[:len(opt_params)//2]\n",
    "exps = opt_params[len(opt_params)//2:]"
   ]
  }
 ],
 "metadata": {
  "kernelspec": {
   "display_name": "Python 2",
   "language": "python",
   "name": "python2"
  },
  "language_info": {
   "codemirror_mode": {
    "name": "ipython",
    "version": 2
   },
   "file_extension": ".py",
   "mimetype": "text/x-python",
   "name": "python",
   "nbconvert_exporter": "python",
   "pygments_lexer": "ipython2",
   "version": "2.7.6"
  }
 },
 "nbformat": 4,
 "nbformat_minor": 0
}
