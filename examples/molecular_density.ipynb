{
 "cells": [
  {
   "cell_type": "markdown",
   "metadata": {
    "collapsed": true,
    "pycharm": {
     "is_executing": false
    }
   },
   "source": [
    "# Fitting of Molecular Electron Densities. "
   ]
  },
  {
   "cell_type": "markdown",
   "metadata": {},
   "source": [
    "This example will showcase how to fit a linear combination of Gaussian functions (e.g. $e^{-\\alpha (x^2 + y^2 + z^2) }$ or $(x^2 + y^2 + z^2) e^{-\\alpha (x^2 + y^2 + z^2) }$) to a three-dimensional probability distribution $\\rho(x, y, z) : \\mathbb{R}^3 \\rightarrow \\mathbb{R}.$\n",
    "\n",
    "In particular, $\\rho$ will be the electron density function of water ($H_2O$) obtained from using the python package chemtools on a Gaussian format checkpoint (fchk) file.\n",
    "\n",
    "This algorithm will optimize the Kullback-Leibler formula $K(\\rho, \\tilde{\\rho})$ to find the best Gaussian density model $\\tilde{\\rho}(x, y, z)$ that approximates $\\rho$.\n",
    "In other words,\n",
    "\n",
    "$$\\arg\\min_{\\tilde{\\rho}}  K(\\tilde{\\rho}, \\rho) = \\arg\\min_{\\tilde{\\rho}}  \\int_{-\\infty}^{\\infty} \\int_{-\\infty}^{\\infty} \\int_{-\\infty}^{\\infty} \\rho(x, y, z) \\log\\bigg(\\frac{\\rho(x, y, z)}{\\tilde{\\rho}(x, y, z)} \\bigg) dx dy dz $$\n",
    "\n",
    "### Model\n",
    "The Gaussian density model of $N$ atoms is built from linear combination of S-type and P-type orbitals centered at each \n",
    "nucleus $(x_i, y_i, z_i)$ of that atom. In other words,\n",
    "\n",
    "$$\\tilde{\\rho}(r) = \\sum_{j=1}^{N} \\sum_i c_{ij} \\bigg(\\frac{\\alpha_{ij}}{\\pi}\\bigg)^{\\frac{3}{2}} e^{-\\alpha_{ij} r_i^2} + \\sum_{j=1}^N \\sum_k d_{ik} \\bigg(\\frac{3\\pi^{1.5}}{2 \\beta_{ik}^{2.5}}\\bigg)r_i^2 e^{-\\beta_{ik} r_i^2},$$\n",
    "\n",
    "where $r_i$ is the radius from the point to the nucleus/atomic center (ie $r_i = \\sqrt{(x - x_i)^2 + (y - y_i)^2 + (z - z_i)^2}$) and the coefficients\n",
    "sum to the number of electrons $N_{elec}$. In other words, $ \\sum c_i + \\sum d_i = N_{elec}$. "
   ]
  },
  {
   "cell_type": "markdown",
   "metadata": {},
   "source": [
    "## 1. Specify the Grid."
   ]
  },
  {
   "cell_type": "markdown",
   "metadata": {},
   "source": [
    "The first step is to specify a grid on which the probability distribution $\\rho$ will be defined on. Here, a uniform cubic grid will be used from $[-4.5, 4.5]^3$ with a step-size of $0.05$."
   ]
  },
  {
   "cell_type": "code",
   "execution_count": 6,
   "metadata": {
    "pycharm": {
     "is_executing": false
    }
   },
   "outputs": [],
   "source": [
    "import numpy as np\n",
    "import matplotlib\n",
    "\n",
    "from bfit.grid import CubicGrid\n",
    "\n",
    "grid = CubicGrid(-4.5, 4.5, 0.05)"
   ]
  },
  {
   "cell_type": "markdown",
   "metadata": {},
   "source": [
    "## 2. Obtain the Molecular Density."
   ]
  },
  {
   "cell_type": "markdown",
   "metadata": {},
   "source": [
    "Now, having the grid, we will need to put values of $\\rho(x, y, z)$ on a grid. This will be done using Chemtools. The format checkpoint file \"h20_ub3lyp_6311g.fchk\" is located \"./bfit/data/examples/\"."
   ]
  },
  {
   "cell_type": "code",
   "execution_count": 7,
   "metadata": {
    "pycharm": {
     "is_executing": false
    }
   },
   "outputs": [
    {
     "name": "stdout",
     "text": [
      "Initialized: <horton.gbasis.cext.GOBasis object at 0x7f5109d68bb0>\n",
      "  Number of basis functions         : 36\n",
      "  Number of normalization constants : 54\n",
      "  Maximum shell type                : 2\n",
      "  Center     0 :  S6 S3 P3 S1 P1 S1 P1 S1 P1 Dp1\n",
      "  Center     1 :  S3 S1 S1 S1 P1\n",
      "  Center     2 :  S3 S1 S1 S1 P1\n",
      "\n",
      "('The Coordinates of water are: ', array([[ 7.64963322e-14, -1.85397511e-02,  0.00000000e+00],\n",
      "       [ 1.44292728e+00, -1.12456580e+00,  0.00000000e+00],\n",
      "       [-1.44292728e+00, -1.12456580e+00,  0.00000000e+00]]))\n",
      "('The integration is: ', 9.994507839696666)\n"
     ],
     "output_type": "stream"
    }
   ],
   "source": [
    "import chemtools\n",
    "from chemtools.wrappers.molecule import Molecule\n",
    "\n",
    "mol = Molecule.from_file(r\"../bfit/data/examples/h2o_ub3lyp_6311g.fchk\")\n",
    "density = mol.compute_density(grid.points)\n",
    "print(\"The Coordinates of water are: \", mol.coordinates)\n",
    "print(\"The integration is: \", grid.integrate(density))"
   ]
  },
  {
   "cell_type": "markdown",
   "metadata": {
    "pycharm": {
     "is_executing": false
    }
   },
   "source": [
    "## 3. Define the Gaussians."
   ]
  },
  {
   "cell_type": "markdown",
   "metadata": {},
   "source": [
    "Having obtained the density values of $H_2O$. The next step is to define what kind of Gaussian model.\n",
    "\n",
    "Here, we want to define the center of different Gaussians to each atom, Oxygen, Hydrogen and the other Hydrogen. \n",
    "Since oxygen has a higher atomic number, we will assign more basis-functions to it.\n",
    "\n",
    "In this example, we will center 7 S-Type and 3 P-Type Gaussian functions to Oxygen and 3 S-type Gaussian functions to each Hydrogen."
   ]
  },
  {
   "cell_type": "code",
   "execution_count": 8,
   "metadata": {
    "pycharm": {
     "is_executing": false
    }
   },
   "outputs": [],
   "source": [
    "from bfit.model import MolecularGaussianDensity\n",
    "\n",
    "# Here, we will defined how many [S-type, P-type] basis functions\n",
    "# we want for oxygen, hydrogen and other hydrogen.\n",
    "numb_basis = np.array([[7, 3], [3, 0], [3, 0]])\n",
    "\n",
    "model = MolecularGaussianDensity(grid.points, mol.coordinates, numb_basis, normalize=True)"
   ]
  },
  {
   "cell_type": "markdown",
   "metadata": {},
   "source": [
    "## 4. Run the Kullback-Leibler SCF method. "
   ]
  },
  {
   "cell_type": "markdown",
   "metadata": {},
   "source": [
    "The final step is to optimize the Kullback-Leibler using the MBIS method.\n",
    "\n",
    "In order to do so, we will first need to define initial guesses for both coefficients and exponents.\n",
    "The recommendation for initial guess are:\n",
    "    - Initial coefficients does not matter.\n",
    "    - Exponents should be distinct for each center and spread-out.\n",
    "    \n",
    "    \n",
    "This example will run only 10 iterations for simplicity."
   ]
  },
  {
   "cell_type": "code",
   "execution_count": 9,
   "metadata": {
    "pycharm": {
     "is_executing": false
    }
   },
   "outputs": [],
   "source": [
    "from bfit.fit import KLDivergenceSCF\n",
    "\n",
    "# Create the fit object.\n",
    "fit = KLDivergenceSCF(grid, density, model)\n",
    "\n",
    "# Define coefficients to be all ones for oxygen, hydrogen and hydrogen.\n",
    "c_o, c_h1, c_h2 = [1.] * 10, [1.] * 3,[1.] * 3\n",
    "e_o = [0.001, 0.1, 1., 10., 100., 1000., 2000., 0.01, 1., 10.]\n",
    "e_h1, e_h2 = [0.01, 10., 100.], [0.01, 10., 100.]\n",
    "\n",
    "# Place all coefficients and exponents in a one-dimensional array\n",
    "# with the same ordering.\n",
    "coeffs_h2o = np.array(c_o + c_h1  + c_h2)\n",
    "exps_h2o = np.array(e_o + c_h1 + c_h2)\n",
    "\n",
    "# Run the algorithm.\n",
    "results = fit.run(coeffs_h2o, exps_h2o, maxiter=10, c_threshold=1e-3,\n",
    "                  e_threshold=1e-4, d_threshold=1e-6)\n"
   ]
  },
  {
   "cell_type": "markdown",
   "metadata": {},
   "source": [
    "Having done so, let's look at the different error/performance measures and plot it.\n",
    "\n",
    "The four performance measures are: the integration value over the grid $\\int \\tilde{\\rho}(x, y, z) dx dy dz$,\n",
    "the $L_1(\\tilde{\\rho}, \\rho)$ distance, the $L_\\infty(\\tilde{\\rho}, \\rho)$ distance and the Kullback-Leibler $K(\\tilde{\\rho}, \\rho)$.\n",
    "\n",
    "The $L_1$ and $L_\\infty$ distance are defined as:\n",
    "\n",
    "$$L_1(\\tilde{\\rho}, \\rho) = \\int |\\rho(x, y, z) - \\tilde{\\rho}(x, y, z)|dx dy dz$$ \n",
    "\n",
    "$$ L_\\infty(\\tilde{\\rho}, \\rho) = \\max_{(x, y, z)} |\\rho(x, y, z) - \\tilde{\\rho}(x, y, z|$$"
   ]
  },
  {
   "cell_type": "code",
   "execution_count": 10,
   "metadata": {
    "pycharm": {
     "is_executing": false
    }
   },
   "outputs": [
    {
     "data": {
      "image/png": "[encoded data removed]",
      "text/plain": "<Figure size 720x720 with 4 Axes>"
     },
     "metadata": {
      "needs_background": "light"
     },
     "output_type": "display_data"
    }
   ],
   "source": [
    "# Plot the error measures.\n",
    "import matplotlib.pyplot as plt\n",
    "fig, axs = plt.subplots(2, 2, figsize=(10,10))\n",
    "axs[0, 0].plot(results[\"performance\"][:, 0])\n",
    "axs[0, 0].set_title(\"Integration value\")\n",
    "axs[0, 1].plot(results[\"performance\"][:, 1])\n",
    "axs[0, 1].set_title(\"L_1 distance\")\n",
    "axs[1, 0].plot(results[\"performance\"][:, 2])\n",
    "axs[1, 0].set_title(\"L_infinity distance\")\n",
    "axs[1, 1].plot(results[\"performance\"][:, 3])\n",
    "axs[1, 1].set_title(\"Kullback-Leibler value\")\n",
    "\n",
    "for ax in fig.get_axes()[2:]:\n",
    "    ax.set(xlabel='Iterations')\n",
    "plt.show()"
   ]
  },
  {
   "cell_type": "code",
   "execution_count": 10,
   "metadata": {
    "pycharm": {
     "is_executing": false
    }
   },
   "outputs": [],
   "source": []
  }
 ],
 "metadata": {
  "kernelspec": {
   "display_name": "Python 2",
   "language": "python",
   "name": "python2"
  },
  "language_info": {
   "codemirror_mode": {
    "name": "ipython",
    "version": 2
   },
   "file_extension": ".py",
   "mimetype": "text/x-python",
   "name": "python",
   "nbconvert_exporter": "python",
   "pygments_lexer": "ipython2",
   "version": "2.7.17"
  },
  "pycharm": {
   "stem_cell": {
    "cell_type": "raw",
    "source": [],
    "metadata": {
     "collapsed": false
    }
   }
  }
 },
 "nbformat": 4,
 "nbformat_minor": 1
}