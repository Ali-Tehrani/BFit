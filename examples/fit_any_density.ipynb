{
 "cells": [
  {
   "cell_type": "markdown",
   "metadata": {
    "collapsed": true
   },
   "source": [
    "# Comparing Kullback-Leibler with Least-Squares"
   ]
  },
  {
   "cell_type": "markdown",
   "metadata": {},
   "source": [
    "This example we wil try to fit to an arbritary distribution, the exponential basis function.\n",
    "\n"
   ]
  },
  {
   "cell_type": "markdown",
   "metadata": {},
   "source": [
    "We start by first defining out model on a very simple uniform grid from zero to six."
   ]
  },
  {
   "cell_type": "code",
   "execution_count": null,
   "metadata": {},
   "outputs": [],
   "source": [
    "%matplotlib inline\n",
    "from fitting.radial_grid.general_grid import RadialGrid\n",
    "import numpy as np\n",
    "\n",
    "# Specifying a uniform grid.\n",
    "grid = np.arange(0., 6, 0.25)\n",
    "grid_obj = RadialGrid(grid)\n",
    "\n",
    "# Model An Arbitrary Probability Density\n",
    "true_model = np.exp(-3. * grid)"
   ]
  },
  {
   "cell_type": "markdown",
   "metadata": {},
   "source": [
    "Once defined, we need to specify our options using the kullback-leibler divergence function."
   ]
  },
  {
   "cell_type": "code",
   "execution_count": null,
   "metadata": {},
   "outputs": [],
   "source": [
    "from fit_densities import fit_gaussian_densities\n",
    "\n",
    "options = {\"coeffs\": np.arange(1, 20, dtype=float),\n",
    "           \"fparams\": np.arange(1, 20, dtype=float),\n",
    "           \"eps_coeff\": 1e-3, \"eps_fparam\": 1e-4, 'iprint': True}\n",
    "params = fit_gaussian_densities(grid=grid_obj, true_model=true_model, method=\"kl_divergence\",\n",
    "                                options=options)"
   ]
  },
  {
   "cell_type": "markdown",
   "metadata": {},
   "source": [
    "Similar, to define options for least squares."
   ]
  },
  {
   "cell_type": "code",
   "execution_count": null,
   "metadata": {},
   "outputs": [],
   "source": [
    "initial_guess = np.append(np.arange(1, 20, dtype=float),\n",
    "                          np.arange(1, 20, dtype=float))\n",
    "options = {\"initial_guess\": initial_guess}\n",
    "params_lq = fit_gaussian_densities(grid=grid_obj, true_model=true_model, method=\"slsqp\",\n",
    "                                   options=options)"
   ]
  },
  {
   "cell_type": "markdown",
   "metadata": {},
   "source": [
    "Plotting the results and the models between the kullback-leibler divergence and slsqp."
   ]
  },
  {
   "cell_type": "code",
   "execution_count": null,
   "metadata": {},
   "outputs": [],
   "source": [
    "from fitting.kl_divergence.gaussian_kl import GaussianKullbackLeibler\n",
    "import matplotlib.pyplot as plt\n",
    "\n",
    "gkl = GaussianKullbackLeibler(grid_obj, true_model)\n",
    "model_kl = gkl.get_model(params[:len(params)//2], params[len(params)//2:])\n",
    "model_lq = gkl.get_model(params_lq[:len(params) // 2], params_lq[len(params) // 2:],\n",
    "                         norm=False)\n",
    "\n",
    "plt.plot(grid, model_kl, \"bo-\", label=\"KL Divergence Model\")\n",
    "plt.plot(grid, true_model, \"ro-\", label=\"True Model\")\n",
    "plt.plot(grid, model_lq, \"go-\", label=\"Least Squares Model\")\n",
    "plt.legend()\n",
    "plt.show()\n"
   ]
  }
 ],
 "metadata": {
  "kernelspec": {
   "display_name": "Python 2",
   "language": "python",
   "name": "python2"
  },
  "language_info": {
   "codemirror_mode": {
    "name": "ipython",
    "version": 2
   },
   "file_extension": ".py",
   "mimetype": "text/x-python",
   "name": "python",
   "nbconvert_exporter": "python",
   "pygments_lexer": "ipython2",
   "version": "2.7.6"
  }
 },
 "nbformat": 4,
 "nbformat_minor": 0
}
